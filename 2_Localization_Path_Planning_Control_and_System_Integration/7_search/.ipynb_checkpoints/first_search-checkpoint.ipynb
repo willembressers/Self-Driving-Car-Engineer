{
 "cells": [
  {
   "cell_type": "code",
   "execution_count": 8,
   "metadata": {},
   "outputs": [
    {
     "name": "stdout",
     "output_type": "stream",
     "text": [
      "FOUND IT\n"
     ]
    },
    {
     "data": {
      "text/plain": [
       "[11, 4, 5]"
      ]
     },
     "execution_count": 8,
     "metadata": {},
     "output_type": "execute_result"
    }
   ],
   "source": [
    "# ----------\n",
    "# User Instructions:\n",
    "# \n",
    "# Define a function, search() that returns a list\n",
    "# in the form of [optimal path length, row, col]. For\n",
    "# the grid shown below, your function should output\n",
    "# [11, 4, 5].\n",
    "#\n",
    "# If there is no valid path from the start point\n",
    "# to the goal, your function should return the string\n",
    "# 'fail'\n",
    "# ----------\n",
    "\n",
    "# Grid format:\n",
    "#   0 = Navigable space\n",
    "#   1 = Occupied space\n",
    "\n",
    "\n",
    "grid = [[0, 0, 1, 0, 0, 0],\n",
    "        [0, 0, 1, 0, 0, 0],\n",
    "        [0, 0, 0, 0, 1, 0],\n",
    "        [0, 0, 1, 1, 1, 0],\n",
    "        [0, 0, 0, 0, 1, 0]]\n",
    "init = [0, 0]\n",
    "goal = [len(grid)-1, len(grid[0])-1]\n",
    "cost = 1\n",
    "\n",
    "delta = [[-1, 0], # go up\n",
    "         [ 0,-1], # go left\n",
    "         [ 1, 0], # go down\n",
    "         [ 0, 1]] # go right\n",
    "\n",
    "delta_name = ['^', '<', 'v', '>']\n",
    "\n",
    "def search(grid,init,goal,cost):\n",
    "    g = 0\n",
    "    x = init[0]\n",
    "    y = init[1]\n",
    "    path = None\n",
    "    \n",
    "    # copy the array\n",
    "    closed = [[0 for value in row] for row in grid]\n",
    "    \n",
    "    # flag the first cell\n",
    "    closed[x][y] = 1\n",
    "    opened = [[g, x, y]]\n",
    "\n",
    "    # define some break conditions\n",
    "    finshed = False\n",
    "    resign = False\n",
    "    \n",
    "    # now loop indefenitly\n",
    "    while finshed is False and resign is False:\n",
    "    \n",
    "        # check if the opened array is empty\n",
    "        if len(opened) == 0:\n",
    "            resign = True\n",
    "            print(\"Couldn't make it\")\n",
    "        \n",
    "        else:\n",
    "            # get the element with the smallest g value\n",
    "            opened.sort()\n",
    "            opened.reverse()\n",
    "            current = opened.pop()\n",
    "            g = current[0]\n",
    "            x = current[1]\n",
    "            y = current[2]\n",
    "            \n",
    "            # are we there yet\n",
    "            if x == goal[0] and y == goal[1]:\n",
    "                finshed = True\n",
    "                path = current\n",
    "                print(\"FOUND IT\")\n",
    "            \n",
    "            # we didn't found the goal so lets keep looking\n",
    "            else:\n",
    "                \n",
    "                # loop over the actions\n",
    "                for action in delta:\n",
    "                    new_x = x + action[0]\n",
    "                    new_y = y + action[1]\n",
    "                    \n",
    "                    # check if we're still within the grid\n",
    "                    if (new_x >= 0 and new_x < len(grid)) and (new_y >= 0 and new_y < len(grid[0])):\n",
    "                        \n",
    "                        # check if new element is already closed\n",
    "                        if closed[new_x][new_y] == 0:\n",
    "                        \n",
    "                            # check if new element is not blocked\n",
    "                            if grid[new_x][new_y] == 0:\n",
    "                                \n",
    "                                # determine the new g value\n",
    "                                new_g = g + cost\n",
    "                                \n",
    "                                # append it to the list for the next round\n",
    "                                opened.append([new_g, new_x, new_y])\n",
    "                                \n",
    "                                # flag the current element as closed\n",
    "                                closed[new_x][new_y] = 1\n",
    "        \n",
    "    return path\n",
    "\n",
    "# Go for it\n",
    "search(grid,init,goal,cost)"
   ]
  },
  {
   "cell_type": "code",
   "execution_count": 3,
   "metadata": {},
   "outputs": [
    {
     "ename": "ModuleNotFoundError",
     "evalue": "No module named 'grader'",
     "output_type": "error",
     "traceback": [
      "\u001b[0;31m---------------------------------------------------------------------------\u001b[0m",
      "\u001b[0;31mModuleNotFoundError\u001b[0m                       Traceback (most recent call last)",
      "\u001b[0;32m<ipython-input-3-fd75aba264e0>\u001b[0m in \u001b[0;36m<module>\u001b[0;34m\u001b[0m\n\u001b[1;32m      1\u001b[0m \u001b[0;31m##### Do Not Modify ######\u001b[0m\u001b[0;34m\u001b[0m\u001b[0;34m\u001b[0m\u001b[0;34m\u001b[0m\u001b[0m\n\u001b[1;32m      2\u001b[0m \u001b[0;34m\u001b[0m\u001b[0m\n\u001b[0;32m----> 3\u001b[0;31m \u001b[0;32mimport\u001b[0m \u001b[0mgrader\u001b[0m\u001b[0;34m\u001b[0m\u001b[0;34m\u001b[0m\u001b[0m\n\u001b[0m\u001b[1;32m      4\u001b[0m \u001b[0;34m\u001b[0m\u001b[0m\n\u001b[1;32m      5\u001b[0m \u001b[0;32mtry\u001b[0m\u001b[0;34m:\u001b[0m\u001b[0;34m\u001b[0m\u001b[0;34m\u001b[0m\u001b[0m\n",
      "\u001b[0;31mModuleNotFoundError\u001b[0m: No module named 'grader'"
     ]
    }
   ],
   "source": [
    "##### Do Not Modify ######\n",
    "\n",
    "import grader\n",
    "\n",
    "try:\n",
    "    response = grader.run_grader(search)\n",
    "    print(response)    \n",
    "    \n",
    "except Exception as err:\n",
    "    print(str(err))"
   ]
  },
  {
   "cell_type": "code",
   "execution_count": 4,
   "metadata": {},
   "outputs": [
    {
     "name": "stderr",
     "output_type": "stream",
     "text": [
      "/Users/willem/.conda/envs/Self-Driving-Car-Engineer/lib/python3.7/site-packages/IPython/core/display.py:717: UserWarning: Consider using IPython.display.IFrame instead\n",
      "  warnings.warn(\"Consider using IPython.display.IFrame instead\")\n"
     ]
    },
    {
     "data": {
      "text/html": [
       "<iframe width=\"560\" height=\"315\" src=\"https://www.youtube.com/embed/cl8Kdkr4Gbg\" frameborder=\"0\" allow=\"accelerometer; autoplay; encrypted-media; gyroscope; picture-in-picture\" allowfullscreen></iframe>"
      ],
      "text/plain": [
       "<IPython.core.display.HTML object>"
      ]
     },
     "execution_count": 4,
     "metadata": {},
     "output_type": "execute_result"
    }
   ],
   "source": [
    "##### SOLUTION: Run this cell to watch the solution video ######\n",
    "from IPython.display import HTML\n",
    "HTML('<iframe width=\"560\" height=\"315\" src=\"https://www.youtube.com/embed/cl8Kdkr4Gbg\" frameborder=\"0\" allow=\"accelerometer; autoplay; encrypted-media; gyroscope; picture-in-picture\" allowfullscreen></iframe>')"
   ]
  },
  {
   "cell_type": "code",
   "execution_count": null,
   "metadata": {},
   "outputs": [],
   "source": []
  }
 ],
 "metadata": {
  "kernelspec": {
   "display_name": "Python 3",
   "language": "python",
   "name": "python3"
  },
  "language_info": {
   "codemirror_mode": {
    "name": "ipython",
    "version": 3
   },
   "file_extension": ".py",
   "mimetype": "text/x-python",
   "name": "python",
   "nbconvert_exporter": "python",
   "pygments_lexer": "ipython3",
   "version": "3.7.5"
  }
 },
 "nbformat": 4,
 "nbformat_minor": 4
}
