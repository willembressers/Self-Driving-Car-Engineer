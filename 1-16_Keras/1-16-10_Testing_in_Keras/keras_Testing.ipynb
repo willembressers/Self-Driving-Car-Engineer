{
 "cells": [
  {
   "cell_type": "code",
   "execution_count": 1,
   "metadata": {},
   "outputs": [],
   "source": [
    "import pickle\n",
    "import numpy as np\n",
    "import tensorflow as tf\n",
    "\n",
    "# Load pickled data\n",
    "with open('small_train_traffic.p', mode='rb') as f:\n",
    "    data = pickle.load(f)"
   ]
  },
  {
   "cell_type": "code",
   "execution_count": 2,
   "metadata": {},
   "outputs": [],
   "source": [
    "# Split the data\n",
    "X_train, y_train = data['features'], data['labels']"
   ]
  },
  {
   "cell_type": "code",
   "execution_count": 3,
   "metadata": {},
   "outputs": [
    {
     "name": "stderr",
     "output_type": "stream",
     "text": [
      "Using TensorFlow backend.\n"
     ]
    }
   ],
   "source": [
    "# Setup Keras\n",
    "from keras.models import Sequential\n",
    "from keras.layers.core import Dense, Activation, Flatten, Dropout\n",
    "from keras.layers.convolutional import Conv2D\n",
    "from keras.layers.pooling import MaxPooling2D"
   ]
  },
  {
   "cell_type": "code",
   "execution_count": 4,
   "metadata": {},
   "outputs": [],
   "source": [
    "# TODO: Build the Final Test Neural Network in Keras Here\n",
    "\n",
    "# Create the Sequential model\n",
    "model = Sequential()\n",
    "\n",
    "model.add(Conv2D(filters=32, kernel_size=(3,3), input_shape=(32, 32, 3)))\n",
    "model.add(MaxPooling2D())\n",
    "model.add(Dropout(0.5))\n",
    "model.add(Activation('relu'))\n",
    "\n",
    "#1st Layer - Add a flatten layer\n",
    "model.add(Flatten(input_shape=(32, 32, 3)))\n",
    "\n",
    "#2nd Layer - Add a fully connected layer\n",
    "model.add(Dense(128))\n",
    "\n",
    "#3rd Layer - Add a ReLU activation layer\n",
    "model.add(Activation('relu'))\n",
    "\n",
    "#4th Layer - Add a fully connected layer\n",
    "model.add(Dense(5))\n",
    "\n",
    "#5th Layer - Add a ReLU activation layer\n",
    "model.add(Activation('softmax'))"
   ]
  },
  {
   "cell_type": "code",
   "execution_count": 5,
   "metadata": {},
   "outputs": [],
   "source": [
    "# preprocess data\n",
    "X_normalized = np.array(X_train / 255.0 - 0.5 )\n",
    "\n",
    "from sklearn.preprocessing import LabelBinarizer\n",
    "label_binarizer = LabelBinarizer()\n",
    "y_one_hot = label_binarizer.fit_transform(y_train)"
   ]
  },
  {
   "cell_type": "code",
   "execution_count": 6,
   "metadata": {},
   "outputs": [
    {
     "name": "stdout",
     "output_type": "stream",
     "text": [
      "Train on 80 samples, validate on 20 samples\n",
      "Epoch 1/30\n",
      "80/80 [==============================] - 0s 4ms/step - loss: 1.3497 - acc: 0.3000 - val_loss: 0.7424 - val_acc: 0.6000\n",
      "Epoch 2/30\n",
      "80/80 [==============================] - 0s 3ms/step - loss: 0.7839 - acc: 0.5500 - val_loss: 0.5666 - val_acc: 0.7500\n",
      "Epoch 3/30\n",
      "80/80 [==============================] - 0s 3ms/step - loss: 0.6247 - acc: 0.7250 - val_loss: 0.4248 - val_acc: 0.8500\n",
      "Epoch 4/30\n",
      "80/80 [==============================] - 0s 3ms/step - loss: 0.5178 - acc: 0.7750 - val_loss: 0.3220 - val_acc: 1.0000\n",
      "Epoch 5/30\n",
      "80/80 [==============================] - 0s 3ms/step - loss: 0.4440 - acc: 0.8500 - val_loss: 0.2690 - val_acc: 1.0000\n",
      "Epoch 6/30\n",
      "80/80 [==============================] - 0s 3ms/step - loss: 0.4446 - acc: 0.7500 - val_loss: 0.2385 - val_acc: 0.8500\n",
      "Epoch 7/30\n",
      "80/80 [==============================] - 0s 3ms/step - loss: 0.3590 - acc: 0.8625 - val_loss: 0.2135 - val_acc: 0.8500\n",
      "Epoch 8/30\n",
      "80/80 [==============================] - 0s 3ms/step - loss: 0.3266 - acc: 0.8375 - val_loss: 0.1833 - val_acc: 0.8500\n",
      "Epoch 9/30\n",
      "80/80 [==============================] - 0s 3ms/step - loss: 0.2822 - acc: 0.8625 - val_loss: 0.1470 - val_acc: 1.0000\n",
      "Epoch 10/30\n",
      "80/80 [==============================] - 0s 3ms/step - loss: 0.2501 - acc: 0.9125 - val_loss: 0.1417 - val_acc: 1.0000\n",
      "Epoch 11/30\n",
      "80/80 [==============================] - 0s 3ms/step - loss: 0.2160 - acc: 0.9125 - val_loss: 0.1354 - val_acc: 0.9500\n",
      "Epoch 12/30\n",
      "80/80 [==============================] - 0s 3ms/step - loss: 0.2658 - acc: 0.8750 - val_loss: 0.1080 - val_acc: 1.0000\n",
      "Epoch 13/30\n",
      "80/80 [==============================] - 0s 2ms/step - loss: 0.1809 - acc: 0.9375 - val_loss: 0.0974 - val_acc: 1.0000\n",
      "Epoch 14/30\n",
      "80/80 [==============================] - 0s 2ms/step - loss: 0.1513 - acc: 0.9625 - val_loss: 0.0895 - val_acc: 1.0000\n",
      "Epoch 15/30\n",
      "80/80 [==============================] - 0s 3ms/step - loss: 0.1567 - acc: 0.9625 - val_loss: 0.0757 - val_acc: 1.0000\n",
      "Epoch 16/30\n",
      "80/80 [==============================] - 0s 3ms/step - loss: 0.1705 - acc: 0.9375 - val_loss: 0.0664 - val_acc: 1.0000\n",
      "Epoch 17/30\n",
      "80/80 [==============================] - 0s 3ms/step - loss: 0.1315 - acc: 0.9500 - val_loss: 0.0850 - val_acc: 1.0000\n",
      "Epoch 18/30\n",
      "80/80 [==============================] - 0s 2ms/step - loss: 0.1330 - acc: 0.9250 - val_loss: 0.0531 - val_acc: 1.0000\n",
      "Epoch 19/30\n",
      "80/80 [==============================] - 0s 3ms/step - loss: 0.1170 - acc: 0.9625 - val_loss: 0.1205 - val_acc: 0.8500\n",
      "Epoch 20/30\n",
      "80/80 [==============================] - 0s 3ms/step - loss: 0.1380 - acc: 0.9375 - val_loss: 0.0672 - val_acc: 1.0000\n",
      "Epoch 21/30\n",
      "80/80 [==============================] - 0s 2ms/step - loss: 0.1030 - acc: 0.9750 - val_loss: 0.1178 - val_acc: 0.8500\n",
      "Epoch 22/30\n",
      "80/80 [==============================] - 0s 3ms/step - loss: 0.1138 - acc: 0.9500 - val_loss: 0.0971 - val_acc: 0.9500\n",
      "Epoch 23/30\n",
      "80/80 [==============================] - 0s 3ms/step - loss: 0.1724 - acc: 0.9125 - val_loss: 0.0747 - val_acc: 1.0000\n",
      "Epoch 24/30\n",
      "80/80 [==============================] - 0s 3ms/step - loss: 0.1489 - acc: 0.9375 - val_loss: 0.0388 - val_acc: 1.0000\n",
      "Epoch 25/30\n",
      "80/80 [==============================] - 0s 3ms/step - loss: 0.1041 - acc: 0.9625 - val_loss: 0.0274 - val_acc: 1.0000\n",
      "Epoch 26/30\n",
      "80/80 [==============================] - 0s 3ms/step - loss: 0.0993 - acc: 0.9750 - val_loss: 0.0247 - val_acc: 1.0000\n",
      "Epoch 27/30\n",
      "80/80 [==============================] - 0s 3ms/step - loss: 0.1232 - acc: 0.9625 - val_loss: 0.0767 - val_acc: 1.0000\n",
      "Epoch 28/30\n",
      "80/80 [==============================] - 0s 3ms/step - loss: 0.1265 - acc: 0.9625 - val_loss: 0.0202 - val_acc: 1.0000\n",
      "Epoch 29/30\n",
      "80/80 [==============================] - 0s 3ms/step - loss: 0.1068 - acc: 0.9375 - val_loss: 0.0278 - val_acc: 1.0000\n",
      "Epoch 30/30\n",
      "80/80 [==============================] - 0s 3ms/step - loss: 0.1033 - acc: 0.9625 - val_loss: 0.0159 - val_acc: 1.0000\n"
     ]
    }
   ],
   "source": [
    "# compile and fit the model\n",
    "model.compile('adam', 'categorical_crossentropy', ['accuracy'])\n",
    "history = model.fit(X_normalized, y_one_hot, epochs=30, validation_split=0.2)"
   ]
  },
  {
   "cell_type": "code",
   "execution_count": 7,
   "metadata": {},
   "outputs": [
    {
     "name": "stdout",
     "output_type": "stream",
     "text": [
      "Testing\n",
      "20/20 [==============================] - 0s 649us/step\n",
      "loss: 0.03880690783262253\n",
      "acc: 1.0\n"
     ]
    }
   ],
   "source": [
    "# evaluate model against the test data\n",
    "with open('small_test_traffic.p', 'rb') as f:\n",
    "    data_test = pickle.load(f)\n",
    "\n",
    "X_test = data_test['features']\n",
    "y_test = data_test['labels']\n",
    "\n",
    "# preprocess data\n",
    "X_normalized_test = np.array(X_test / 255.0 - 0.5 )\n",
    "y_one_hot_test = label_binarizer.fit_transform(y_test)\n",
    "\n",
    "print(\"Testing\")\n",
    "\n",
    "metrics = model.evaluate(X_normalized_test, y_one_hot_test)\n",
    "for metric_i in range(len(model.metrics_names)):\n",
    "    metric_name = model.metrics_names[metric_i]\n",
    "    metric_value = metrics[metric_i]\n",
    "    print('{}: {}'.format(metric_name, metric_value))    "
   ]
  },
  {
   "cell_type": "code",
   "execution_count": 8,
   "metadata": {},
   "outputs": [
    {
     "name": "stdout",
     "output_type": "stream",
     "text": [
      "Nice, accuracy was 1.0\n",
      "Good Job, accuracy was above 90%\n",
      "\n"
     ]
    }
   ],
   "source": [
    "# DON'T MODIFY ANYTHING BELOW ###\n",
    "### Be sure to run all cells above before running this cell ###\n",
    "import grader\n",
    "\n",
    "try:\n",
    "    grader.run_grader(metrics)\n",
    "except Exception as err:\n",
    "    print(str(err))"
   ]
  }
 ],
 "metadata": {
  "kernelspec": {
   "display_name": "Python 3",
   "language": "python",
   "name": "python3"
  },
  "language_info": {
   "codemirror_mode": {
    "name": "ipython",
    "version": 3
   },
   "file_extension": ".py",
   "mimetype": "text/x-python",
   "name": "python",
   "nbconvert_exporter": "python",
   "pygments_lexer": "ipython3",
   "version": "3.6.3"
  }
 },
 "nbformat": 4,
 "nbformat_minor": 2
}
