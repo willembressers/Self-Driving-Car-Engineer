{
 "cells": [
  {
   "cell_type": "markdown",
   "metadata": {},
   "source": [
    "# Self-Driving Car Engineer Nanodegree\n",
    "\n",
    "## Deep Learning\n",
    "\n",
    "## Project: Build a Traffic Sign Recognition Classifier\n",
    "\n",
    "In this notebook, a template is provided for you to implement your functionality in stages, which is required to successfully complete this project. If additional code is required that cannot be included in the notebook, be sure that the Python code is successfully imported and included in your submission if necessary. \n",
    "\n",
    "> **Note**: Once you have completed all of the code implementations, you need to finalize your work by exporting the iPython Notebook as an HTML document. Before exporting the notebook to html, all of the code cells need to have been run so that reviewers can see the final implementation and output. You can then export the notebook by using the menu above and navigating to  \\n\",\n",
    "    \"**File -> Download as -> HTML (.html)**. Include the finished document along with this notebook as your submission. \n",
    "\n",
    "In addition to implementing code, there is a writeup to complete. The writeup should be completed in a separate file, which can be either a markdown file or a pdf document. There is a [write up template](https://github.com/udacity/CarND-Traffic-Sign-Classifier-Project/blob/master/writeup_template.md) that can be used to guide the writing process. Completing the code template and writeup template will cover all of the [rubric points](https://review.udacity.com/#!/rubrics/481/view) for this project.\n",
    "\n",
    "The [rubric](https://review.udacity.com/#!/rubrics/481/view) contains \"Stand Out Suggestions\" for enhancing the project beyond the minimum requirements. The stand out suggestions are optional. If you decide to pursue the \"stand out suggestions\", you can include the code in this Ipython notebook and also discuss the results in the writeup file.\n",
    "\n",
    "\n",
    ">**Note:** Code and Markdown cells can be executed using the **Shift + Enter** keyboard shortcut. In addition, Markdown cells can be edited by typically double-clicking the cell to enter edit mode."
   ]
  },
  {
   "cell_type": "code",
   "execution_count": 1,
   "metadata": {},
   "outputs": [
    {
     "name": "stdout",
     "output_type": "stream",
     "text": [
      "INFO:tensorflow:Enabling eager execution\n",
      "INFO:tensorflow:Enabling v2 tensorshape\n",
      "INFO:tensorflow:Enabling resource variables\n",
      "INFO:tensorflow:Enabling tensor equality\n",
      "INFO:tensorflow:Enabling control flow v2\n"
     ]
    },
    {
     "name": "stderr",
     "output_type": "stream",
     "text": [
      "2021/05/03 23:59:32 WARNING mlflow.utils.autologging_utils: You are using an unsupported version of tensorflow. If you encounter errors during autologging, try upgrading / downgrading tensorflow to a supported version, or try upgrading MLflow.\n"
     ]
    },
    {
     "name": "stdout",
     "output_type": "stream",
     "text": [
      "Python: 3.9.2 (v3.9.2:1a79785e3e, Feb 19 2021, 09:06:10) \n",
      "[Clang 6.0 (clang-600.0.57)]\n",
      "Numpy: 1.19.5\n",
      "pandas: 1.2.4\n",
      "Tensorflow: 2.5.0-rc1\n"
     ]
    }
   ],
   "source": [
    "# python core packages\n",
    "import sys\n",
    "import pickle\n",
    "import random\n",
    "\n",
    "# 3rd party packages\n",
    "import mlflow\n",
    "import numpy as np\n",
    "import pandas as pd\n",
    "import tensorflow as tf\n",
    "import mlflow.tensorflow\n",
    "import matplotlib.pyplot as plt\n",
    "from sklearn.utils import class_weight\n",
    "\n",
    "# custom packages\n",
    "\n",
    "# Visualizations will be shown in the notebook.\n",
    "%matplotlib inline\n",
    "\n",
    "# show some version data\n",
    "print(f'Python: {sys.version}')\n",
    "print(f'Numpy: {np.__version__}')\n",
    "print(f'pandas: {pd.__version__}')\n",
    "print(f'Tensorflow: {tf.__version__}')\n",
    "\n",
    "# define the mlflow experiments\n",
    "mlflow.set_experiment(\"Udacity|Traffic_sign_classifier\")\n",
    "\n",
    "# Enable auto-logging to MLflow to capture TensorBoard metrics.\n",
    "mlflow.tensorflow.autolog()"
   ]
  },
  {
   "cell_type": "markdown",
   "metadata": {},
   "source": [
    "- https://www.tensorflow.org/tutorials/keras/classification\n",
    "- https://www.tensorflow.org/tutorials/load_data/images\n",
    "- https://www.tensorflow.org/guide/data#preprocessing_data"
   ]
  },
  {
   "cell_type": "markdown",
   "metadata": {},
   "source": [
    "---\n",
    "## Step 0: Load The Data"
   ]
  },
  {
   "cell_type": "code",
   "execution_count": 64,
   "metadata": {
    "collapsed": false,
    "jupyter": {
     "outputs_hidden": false
    }
   },
   "outputs": [],
   "source": [
    "training_file = 'traffic-signs-data/train.p'\n",
    "validation_file = 'traffic-signs-data/valid.p'\n",
    "testing_file = 'traffic-signs-data/test.p'\n",
    "\n",
    "with open(training_file, mode='rb') as f:\n",
    "    train = pickle.load(f)\n",
    "with open(validation_file, mode='rb') as f:\n",
    "    valid = pickle.load(f)\n",
    "with open(testing_file, mode='rb') as f:\n",
    "    test = pickle.load(f)\n",
    "    \n",
    "X_train, y_train = train['features'], train['labels']\n",
    "X_valid, y_valid = valid['features'], valid['labels']\n",
    "X_test, y_test = test['features'], test['labels']"
   ]
  },
  {
   "cell_type": "code",
   "execution_count": 65,
   "metadata": {},
   "outputs": [
    {
     "data": {
      "text/html": [
       "<div>\n",
       "<style scoped>\n",
       "    .dataframe tbody tr th:only-of-type {\n",
       "        vertical-align: middle;\n",
       "    }\n",
       "\n",
       "    .dataframe tbody tr th {\n",
       "        vertical-align: top;\n",
       "    }\n",
       "\n",
       "    .dataframe thead th {\n",
       "        text-align: right;\n",
       "    }\n",
       "</style>\n",
       "<table border=\"1\" class=\"dataframe\">\n",
       "  <thead>\n",
       "    <tr style=\"text-align: right;\">\n",
       "      <th></th>\n",
       "      <th>SignName</th>\n",
       "    </tr>\n",
       "    <tr>\n",
       "      <th>ClassId</th>\n",
       "      <th></th>\n",
       "    </tr>\n",
       "  </thead>\n",
       "  <tbody>\n",
       "    <tr>\n",
       "      <th>0</th>\n",
       "      <td>Speed limit (20km/h)</td>\n",
       "    </tr>\n",
       "    <tr>\n",
       "      <th>1</th>\n",
       "      <td>Speed limit (30km/h)</td>\n",
       "    </tr>\n",
       "    <tr>\n",
       "      <th>2</th>\n",
       "      <td>Speed limit (50km/h)</td>\n",
       "    </tr>\n",
       "    <tr>\n",
       "      <th>3</th>\n",
       "      <td>Speed limit (60km/h)</td>\n",
       "    </tr>\n",
       "    <tr>\n",
       "      <th>4</th>\n",
       "      <td>Speed limit (70km/h)</td>\n",
       "    </tr>\n",
       "  </tbody>\n",
       "</table>\n",
       "</div>"
      ],
      "text/plain": [
       "                     SignName\n",
       "ClassId                      \n",
       "0        Speed limit (20km/h)\n",
       "1        Speed limit (30km/h)\n",
       "2        Speed limit (50km/h)\n",
       "3        Speed limit (60km/h)\n",
       "4        Speed limit (70km/h)"
      ]
     },
     "execution_count": 65,
     "metadata": {},
     "output_type": "execute_result"
    }
   ],
   "source": [
    "# load the sign data\n",
    "signnames = pd.read_csv('signnames.csv').set_index('ClassId')\n",
    "\n",
    "# create a label_map\n",
    "class_names = signnames.to_dict()['SignName']\n",
    "\n",
    "# show some\n",
    "signnames.head()"
   ]
  },
  {
   "cell_type": "markdown",
   "metadata": {},
   "source": [
    "---\n",
    "\n",
    "## Step 1: Dataset Summary & Exploration\n",
    "\n",
    "The pickled data is a dictionary with 4 key/value pairs:\n",
    "\n",
    "- `'features'` is a 4D array containing raw pixel data of the traffic sign images, (num examples, width, height, channels).\n",
    "- `'labels'` is a 1D array containing the label/class id of the traffic sign. The file `signnames.csv` contains id -> name mappings for each id.\n",
    "- `'sizes'` is a list containing tuples, (width, height) representing the original width and height the image.\n",
    "- `'coords'` is a list containing tuples, (x1, y1, x2, y2) representing coordinates of a bounding box around the sign in the image. **THESE COORDINATES ASSUME THE ORIGINAL IMAGE. THE PICKLED DATA CONTAINS RESIZED VERSIONS (32 by 32) OF THESE IMAGES**\n",
    "\n",
    "Complete the basic data summary below. Use python, numpy and/or pandas methods to calculate the data summary rather than hard coding the results. For example, the [pandas shape method](http://pandas.pydata.org/pandas-docs/stable/generated/pandas.DataFrame.shape.html) might be useful for calculating some of the summary results. "
   ]
  },
  {
   "cell_type": "markdown",
   "metadata": {},
   "source": [
    "### Provide a Basic Summary of the Data Set Using Python, Numpy and/or Pandas"
   ]
  },
  {
   "cell_type": "code",
   "execution_count": 66,
   "metadata": {},
   "outputs": [
    {
     "name": "stdout",
     "output_type": "stream",
     "text": [
      "Number of training examples = 34799\n",
      "Number of validation examples = 4410\n",
      "Number of testing examples = 12630\n",
      "Image data shape = (32, 32)\n",
      "Number of classes = 43\n"
     ]
    }
   ],
   "source": [
    "### Replace each question mark with the appropriate value. \n",
    "### Use python, pandas or numpy methods rather than hard coding the results\n",
    "\n",
    "# Number of training examples\n",
    "n_train = X_train.shape[0]\n",
    "\n",
    "# Number of validation examples\n",
    "n_validation = X_valid.shape[0]\n",
    "\n",
    "# Number of testing examples.\n",
    "n_test = X_test.shape[0]\n",
    "\n",
    "# What's the shape of an traffic sign image?\n",
    "image_shape = X_train.shape[1:3]\n",
    "\n",
    "# How many unique classes/labels there are in the dataset.\n",
    "n_classes = len(set(y_train))\n",
    "\n",
    "# What are the class_weights?\n",
    "# class_weights = class_weight.compute_class_weight('balanced', np.unique(y_train),y_train)\n",
    "\n",
    "print(\"Number of training examples =\", n_train)\n",
    "print(\"Number of validation examples =\", n_validation)\n",
    "print(\"Number of testing examples =\", n_test)\n",
    "print(\"Image data shape =\", image_shape)\n",
    "print(\"Number of classes =\", n_classes)"
   ]
  },
  {
   "cell_type": "markdown",
   "metadata": {},
   "source": [
    "### Include an exploratory visualization of the dataset"
   ]
  },
  {
   "cell_type": "markdown",
   "metadata": {},
   "source": [
    "Visualize the German Traffic Signs Dataset using the pickled file(s). This is open ended, suggestions include: plotting traffic sign images, plotting the count of each sign, etc. \n",
    "\n",
    "The [Matplotlib](http://matplotlib.org/) [examples](http://matplotlib.org/examples/index.html) and [gallery](http://matplotlib.org/gallery.html) pages are a great resource for doing visualizations in Python.\n",
    "\n",
    "**NOTE:** It's recommended you start with something simple first. If you wish to do more, come back to it after you've completed the rest of the sections. It can be interesting to look at the distribution of classes in the training, validation and test set. Is the distribution the same? Are there more examples of some classes than others?"
   ]
  },
  {
   "cell_type": "code",
   "execution_count": 69,
   "metadata": {},
   "outputs": [
    {
     "data": {
      "image/png": "[encoded data removed]",
      "text/plain": [
       "<Figure size 2160x576 with 18 Axes>"
      ]
     },
     "metadata": {
      "needs_background": "light"
     },
     "output_type": "display_data"
    },
    {
     "data": {
      "image/png": "[encoded data removed]",
      "text/plain": [
       "<Figure size 1296x720 with 1 Axes>"
      ]
     },
     "metadata": {
      "needs_background": "light"
     },
     "output_type": "display_data"
    }
   ],
   "source": [
    "### Data exploration visualization code goes here.\n",
    "### Feel free to use as many code cells as needed.\n",
    "    \n",
    "def plot_images(X, y, n_columns = 6, n_rows = 3):\n",
    "    # generate n random integers from the trainingsset\n",
    "    integers = [random.randint(0, n_train) for p in range(0, (n_columns * n_rows))]\n",
    "\n",
    "    # show the images\n",
    "    plt.figure(figsize=(30, 8))\n",
    "    for index, integer in enumerate(integers):\n",
    "        ax = plt.subplot(n_rows, n_columns, index + 1)\n",
    "        plt.imshow(X[integer])\n",
    "        plt.title(class_names[y[integer]])\n",
    "        plt.axis(\"off\")\n",
    "            \n",
    "def plot_dataset_class_distibution(y_train):\n",
    "    # count per value\n",
    "    values, counts = np.unique(y_train, return_counts=True)\n",
    "\n",
    "    # map the values to labels\n",
    "    labels = [class_names[value] for value in values]\n",
    "\n",
    "    # create a dataframe (so i can sort) and then plot the value\n",
    "    pd.DataFrame({'labels':labels, 'counts':counts}).sort_values('counts', ascending=True).set_index('labels').plot.barh(figsize=(18, 10))\n",
    "    plt.show()\n",
    "\n",
    "# plot images\n",
    "plot_images(X_train, y_train)\n",
    "\n",
    "# plot the class distribution \n",
    "plot_dataset_class_distibution(y_train)"
   ]
  },
  {
   "cell_type": "markdown",
   "metadata": {},
   "source": [
    "----\n",
    "\n",
    "## Step 2: Design and Test a Model Architecture\n",
    "\n",
    "Design and implement a deep learning model that learns to recognize traffic signs. Train and test your model on the [German Traffic Sign Dataset](http://benchmark.ini.rub.de/?section=gtsrb&subsection=dataset).\n",
    "\n",
    "The LeNet-5 implementation shown in the [classroom](https://classroom.udacity.com/nanodegrees/nd013/parts/fbf77062-5703-404e-b60c-95b78b2f3f9e/modules/6df7ae49-c61c-4bb2-a23e-6527e69209ec/lessons/601ae704-1035-4287-8b11-e2c2716217ad/concepts/d4aca031-508f-4e0b-b493-e7b706120f81) at the end of the CNN lesson is a solid starting point. You'll have to change the number of classes and possibly the preprocessing, but aside from that it's plug and play! \n",
    "\n",
    "With the LeNet-5 solution from the lecture, you should expect a validation set accuracy of about 0.89. To meet specifications, the validation set accuracy will need to be at least 0.93. It is possible to get an even higher accuracy, but 0.93 is the minimum for a successful project submission. \n",
    "\n",
    "There are various aspects to consider when thinking about this problem:\n",
    "\n",
    "- Neural network architecture (is the network over or underfitting?)\n",
    "- Play around preprocessing techniques (normalization, rgb to grayscale, etc)\n",
    "- Number of examples per label (some have more than others).\n",
    "- Generate fake data.\n",
    "\n",
    "Here is an example of a [published baseline model on this problem](http://yann.lecun.com/exdb/publis/pdf/sermanet-ijcnn-11.pdf). It's not required to be familiar with the approach used in the paper but, it's good practice to try to read papers like these."
   ]
  },
  {
   "cell_type": "markdown",
   "metadata": {},
   "source": [
    "### Pre-process the Data Set (normalization, grayscale, etc.)"
   ]
  },
  {
   "cell_type": "markdown",
   "metadata": {},
   "source": [
    "Minimally, the image data should be normalized so that the data has mean zero and equal variance. For image data, `(pixel - 128)/ 128` is a quick way to approximately normalize the data and can be used in this project. \n",
    "\n",
    "Other pre-processing steps are optional. You can try different techniques to see if it improves performance. \n",
    "\n",
    "Use the code cell (or multiple code cells, if necessary) to implement the first step of your project."
   ]
  },
  {
   "cell_type": "code",
   "execution_count": 6,
   "metadata": {},
   "outputs": [],
   "source": [
    "# ### Preprocess the data here. It is required to normalize the data. Other preprocessing steps could include\n",
    "\n",
    "# batch_size = 128\n",
    "# AUTOTUNE = tf.data.AUTOTUNE\n",
    "\n",
    "# # image_preprocessing = tf.keras.Sequential([\n",
    "# #     tf.keras.layers.experimental.preprocessing.Rescaling(1./255)\n",
    "# # ])\n",
    "# def image_preprocessing(image):\n",
    "#     # cast integers to float\n",
    "#     image = tf.cast(image, tf.float32)\n",
    "    \n",
    "#     # convert RGB to gray\n",
    "#     image = tf.image.rgb_to_grayscale(image)\n",
    "    \n",
    "#     # normalize\n",
    "#     image = ((image - 128) / 128)\n",
    "    \n",
    "#     return image\n",
    "\n",
    "# image_augmentation = tf.keras.Sequential([\n",
    "#     tf.keras.layers.experimental.preprocessing.RandomFlip(\"horizontal\"),\n",
    "#     tf.keras.layers.experimental.preprocessing.RandomRotation(0.1),\n",
    "# ])\n",
    "\n",
    "# def prepare(dataset, shuffle=False, augment=False):\n",
    "#     # Preprocess (ALL)\n",
    "#     dataset = dataset.map(lambda x, y: (image_preprocessing(x), y), num_parallel_calls=AUTOTUNE)\n",
    "\n",
    "#     # Shuffle (SOME)\n",
    "#     if shuffle:\n",
    "#         dataset = dataset.shuffle(1000)\n",
    "\n",
    "#     # Batch (ALL)\n",
    "#     dataset = dataset.batch(batch_size)\n",
    "\n",
    "#     # Augment (SOME)\n",
    "#     if augment:\n",
    "#         dataset = dataset.map(lambda x, y: (image_augmentation(x, training=True), y), num_parallel_calls=AUTOTUNE)\n",
    "\n",
    "#     # Prefetch (ALL)\n",
    "#     return dataset.prefetch(buffer_size=AUTOTUNE)\n",
    "\n",
    "# # create tensorflow datasets\n",
    "# train_ds = tf.data.Dataset.from_tensor_slices((X_train, y_train))\n",
    "# valid_ds = tf.data.Dataset.from_tensor_slices((X_valid, y_valid))\n",
    "# test_ds = tf.data.Dataset.from_tensor_slices((X_test, y_test))\n",
    "\n",
    "# # prepare the data(sets)\n",
    "# # train_ds = prepare(train_ds, shuffle=True, augment=False)\n",
    "# # valid_ds = prepare(valid_ds)\n",
    "# # test_ds = prepare(test_ds)\n",
    "\n",
    "# # show a dataset\n",
    "# train_ds"
   ]
  },
  {
   "cell_type": "code",
   "execution_count": 7,
   "metadata": {},
   "outputs": [],
   "source": [
    "# def plot_batch_sizes(dataset, title):\n",
    "#     image_count = 0\n",
    "#     batch_count = 0\n",
    "#     batch_sizes = []\n",
    "    \n",
    "#     for images, labels in dataset:\n",
    "#         batch_size = images.shape[0]\n",
    "        \n",
    "#         image_count += batch_size\n",
    "#         batch_count += 1\n",
    "#         batch_sizes.append(batch_size)\n",
    "\n",
    "#     plt.figure(figsize=(18, 2))\n",
    "#     plt.bar(range(len(batch_sizes)), batch_sizes)\n",
    "#     plt.title(f'{image_count} images devided over {batch_count} batches in {title} dataset')\n",
    "#     plt.xlabel('Batch number')\n",
    "#     plt.ylabel('Batch size')\n",
    "#     plt.tight_layout()\n",
    "    \n",
    "# def plot_dataset_images(dataset, n_columns = 6, n_rows = 3):\n",
    "#     plt.figure(figsize=(22, 10))\n",
    "#     for images, labels in dataset.take(1):\n",
    "#         for i in range(n_columns * n_rows):\n",
    "#             ax = plt.subplot(n_rows, n_columns, i + 1)\n",
    "#             plt.imshow(images[i].numpy(), cmap=plt.cm.binary)\n",
    "#             plt.title(class_names[labels[i].numpy()])\n",
    "# #             plt.axis(\"off\")\n",
    "\n",
    "# # plot the dataset batches \n",
    "# plot_batch_sizes(train_ds, 'train_ds')\n",
    "# plot_batch_sizes(valid_ds, 'valid_ds')\n",
    "# plot_batch_sizes(test_ds, 'test_ds')\n",
    "\n",
    "# # plot some \"real\" training images\n",
    "# plot_dataset_images(train_ds)"
   ]
  },
  {
   "cell_type": "markdown",
   "metadata": {},
   "source": [
    "### Model Architecture"
   ]
  },
  {
   "cell_type": "code",
   "execution_count": 8,
   "metadata": {},
   "outputs": [],
   "source": [
    "# learning_rate = 0.001\n",
    "# epochs = 50\n",
    "# verbose = 3\n",
    "\n",
    "# # =============================================================================\n",
    "# # architecture\n",
    "# # =============================================================================\n",
    "\n",
    "# ### Define your architecture here.\n",
    "# model = tf.keras.Sequential([\n",
    "#     tf.keras.layers.Flatten(input_shape=(32, 32, 1)),\n",
    "#     tf.keras.layers.Dense(128, activation='relu'),\n",
    "#     tf.keras.layers.Dropout(0.2),\n",
    "#     tf.keras.layers.Dense(len(class_names), activation='sigmoid')\n",
    "# ])\n",
    "\n",
    "# # compile the model\n",
    "# model.compile(\n",
    "#     optimizer = tf.keras.optimizers.Adam(learning_rate=learning_rate),\n",
    "#     loss = tf.keras.losses.SparseCategoricalCrossentropy(from_logits=True),\n",
    "#     metrics = ['accuracy']\n",
    "# )\n",
    "\n",
    "# # =============================================================================\n",
    "# # initial evaluation\n",
    "# # =============================================================================\n",
    "\n",
    "# init_loss, init_acc = model.evaluate(valid_normalized_ds, verbose=verbose)\n",
    "# print(f'Initial loss: {init_loss:.2f} / accuracy: {init_acc:.2f}')\n",
    "\n",
    "# # =============================================================================\n",
    "# # training\n",
    "# # =============================================================================\n",
    "\n",
    "# # callbacks\n",
    "# callbacks = [\n",
    "#     tf.keras.callbacks.EarlyStopping(patience=4),\n",
    "#     tf.keras.callbacks.ReduceLROnPlateau(monitor=\"val_loss\", factor=0.1, patience=2),\n",
    "# ]\n",
    "\n",
    "# with mlflow.start_run(run_name='simple_classifier'):\n",
    "#     # train the model\n",
    "#     history = model.fit(\n",
    "#         train_ds, \n",
    "#         batch_size=batch_size, \n",
    "#         epochs=epochs,\n",
    "#         verbose=verbose, \n",
    "#         callbacks=callbacks,\n",
    "#         validation_data=valid_ds,\n",
    "#         class_weight=None,\n",
    "#         steps_per_epoch=None,\n",
    "#         validation_steps=None, \n",
    "#         validation_batch_size=batch_size\n",
    "#     )\n",
    "\n",
    "\n",
    "# plt.figure(figsize=(22, 10))\n",
    "\n",
    "# # summarize history for accuracy\n",
    "# plt.subplot(3, 1, 1)\n",
    "# plt.plot(history.history['accuracy'], label='Training Accuracy')\n",
    "# plt.plot(history.history['val_accuracy'], label='Validation Accuracy')\n",
    "# plt.legend(loc='lower right')\n",
    "# plt.ylabel('Accuracy')\n",
    "# # plt.ylim([min(plt.ylim()),1])\n",
    "# plt.title('Training and Validation Accuracy')\n",
    "\n",
    "# # summarize history for loss\n",
    "# plt.subplot(3, 1, 2)\n",
    "# plt.plot(history.history['loss'], label='Training Loss')\n",
    "# plt.plot(history.history['val_loss'], label='Validation Loss')\n",
    "# plt.legend(loc='upper right')\n",
    "# plt.ylabel('Cross Entropy')\n",
    "# # plt.ylim([0,1.0])\n",
    "# plt.title('Training and Validation Loss')\n",
    "# plt.xlabel('epoch')\n",
    "\n",
    "# # summarize history for loss\n",
    "# plt.subplot(3, 1, 3)\n",
    "# plt.plot(history.history['lr'])\n",
    "# plt.title('Learning rate')\n",
    "# plt.ylabel('value')\n",
    "# plt.xlabel('epoch')\n",
    "\n",
    "# plt.show()\n",
    "\n",
    "# # =============================================================================\n",
    "# # evaluation\n",
    "# # =============================================================================\n",
    "\n",
    "# test_loss, test_acc = model.evaluate(test_normalized_ds, verbose=verbose)\n",
    "# print(f'Testing loss: {test_loss:.2f} / accuracy: {test_acc:.2f}')"
   ]
  },
  {
   "cell_type": "code",
   "execution_count": 9,
   "metadata": {},
   "outputs": [],
   "source": [
    "# batch_size = 128\n",
    "# shuffle_buffer = 1000\n",
    "# learning_rate = 0.001\n",
    "# epochs = 50\n",
    "# AUTOTUNE = tf.data.AUTOTUNE\n",
    "# verbose = 2\n",
    "\n",
    "# # =============================================================================\n",
    "# # preprocess\n",
    "# # =============================================================================\n",
    "\n",
    "# # def image_preprocessing(image):\n",
    "# #     image = tf.cast(image, tf.float32)\n",
    "# #     image = tf.image.rgb_to_grayscale(image)\n",
    "# #     return tf.keras.layers.experimental.preprocessing.Rescaling(1./255)(image)\n",
    "# #     return ((image - 128) / 128)\n",
    "# image_preprocessing = tf.keras.layers.experimental.preprocessing.Rescaling(1./255)\n",
    "\n",
    "# # create tensorflow datasets\n",
    "# train_ds = tf.data.Dataset.from_tensor_slices((X_train, y_train)).shuffle(shuffle_buffer).batch(batch_size)\n",
    "# valid_ds = tf.data.Dataset.from_tensor_slices((X_valid, y_valid)).shuffle(shuffle_buffer).batch(batch_size)\n",
    "# test_ds = tf.data.Dataset.from_tensor_slices((X_test, y_test)).batch(batch_size)\n",
    "\n",
    "# # prepare the datasets\n",
    "# train_ds = train_ds.map(lambda x, y: (image_preprocessing(x), y))\n",
    "# valid_ds = valid_ds.map(lambda x, y: (image_preprocessing(x), y))\n",
    "# test_ds = test_ds.map(lambda x, y: (image_preprocessing(x), y))\n",
    "\n",
    "# # get the imput shape (from the first image , from the first batch)\n",
    "# input_shape = next(iter(train_ds))[0][0].shape\n",
    "\n",
    "# # =============================================================================\n",
    "# # architecture\n",
    "# # =============================================================================\n",
    "\n",
    "# ### Define your architecture here.\n",
    "# model = tf.keras.Sequential([\n",
    "#     tf.keras.layers.Flatten(input_shape=input_shape),\n",
    "#     tf.keras.layers.Dense(128, activation='relu'),\n",
    "#     tf.keras.layers.Dropout(0.2),\n",
    "#     tf.keras.layers.Dense(n_classes)\n",
    "# ])\n",
    "\n",
    "# # compile the model\n",
    "# model.compile(\n",
    "#     optimizer = tf.keras.optimizers.Adam(learning_rate=learning_rate),\n",
    "#     loss = tf.keras.losses.SparseCategoricalCrossentropy(from_logits=True),\n",
    "#     metrics = ['accuracy']\n",
    "# )\n",
    "\n",
    "# # =============================================================================\n",
    "# # training\n",
    "# # =============================================================================\n",
    "\n",
    "# # callbacks\n",
    "# callbacks = [\n",
    "#     tf.keras.callbacks.EarlyStopping(patience=5),\n",
    "#     tf.keras.callbacks.ReduceLROnPlateau(monitor=\"val_loss\", factor=0.1, patience=4),\n",
    "# ]\n",
    "\n",
    "# history = model.fit(\n",
    "#     train_ds, \n",
    "#     epochs=epochs, \n",
    "#     validation_data=valid_ds,\n",
    "#     verbose=verbose,\n",
    "#     callbacks=callbacks,\n",
    "#     batch_size=batch_size,\n",
    "# )\n",
    "\n",
    "# # =============================================================================\n",
    "# # training\n",
    "# # =============================================================================\n",
    "\n",
    "# def plot_history(history): \n",
    "#     plt.figure(figsize=(22, 10))\n",
    "\n",
    "#     # summarize history for accuracy\n",
    "#     plt.subplot(3, 1, 1)\n",
    "#     plt.plot(history.history['accuracy'], label='Training Accuracy')\n",
    "#     plt.plot(history.history['val_accuracy'], label='Validation Accuracy')\n",
    "#     plt.legend(loc='lower right')\n",
    "#     plt.ylabel('Accuracy')\n",
    "#     # plt.ylim([min(plt.ylim()),1])\n",
    "#     plt.ylim([0,1.0])\n",
    "#     plt.title('Training and Validation Accuracy')\n",
    "\n",
    "#     # summarize history for loss\n",
    "#     plt.subplot(3, 1, 2)\n",
    "#     plt.plot(history.history['loss'], label='Training Loss')\n",
    "#     plt.plot(history.history['val_loss'], label='Validation Loss')\n",
    "#     plt.legend(loc='upper right')\n",
    "#     plt.ylabel('Cross Entropy')\n",
    "#     plt.ylim([0,1.0])\n",
    "#     plt.title('Training and Validation Loss')\n",
    "#     plt.xlabel('epoch')\n",
    "\n",
    "#     # summarize history for loss\n",
    "#     plt.subplot(3, 1, 3)\n",
    "#     plt.plot(history.history['lr'])\n",
    "#     plt.title('Learning rate')\n",
    "#     plt.ylabel('value')\n",
    "#     plt.xlabel('epoch')\n",
    "\n",
    "#     plt.show()\n",
    "\n",
    "# plot_history(history)"
   ]
  },
  {
   "cell_type": "code",
   "execution_count": 57,
   "metadata": {},
   "outputs": [
    {
     "data": {
      "text/plain": [
       "<BatchDataset shapes: ((None, 32, 32, 3), (None,)), types: (tf.uint8, tf.uint8)>"
      ]
     },
     "execution_count": 57,
     "metadata": {},
     "output_type": "execute_result"
    }
   ],
   "source": [
    "batch_size = 128\n",
    "\n",
    "train_ds = tf.data.Dataset.from_tensor_slices((X_train, y_train)).batch(batch_size)\n",
    "val_ds = tf.data.Dataset.from_tensor_slices((X_valid, y_valid)).batch(batch_size)\n",
    "\n",
    "train_ds"
   ]
  },
  {
   "cell_type": "code",
   "execution_count": 58,
   "metadata": {},
   "outputs": [
    {
     "name": "stdout",
     "output_type": "stream",
     "text": [
      "(128, 32, 32, 3)\n",
      "(128,)\n"
     ]
    }
   ],
   "source": [
    "for image_batch, labels_batch in train_ds:\n",
    "    print(image_batch.shape)\n",
    "    print(labels_batch.shape)\n",
    "    break"
   ]
  },
  {
   "cell_type": "code",
   "execution_count": 59,
   "metadata": {},
   "outputs": [
    {
     "name": "stdout",
     "output_type": "stream",
     "text": [
      "0.07450981 0.4431373\n"
     ]
    }
   ],
   "source": [
    "normalization_layer = tf.keras.layers.experimental.preprocessing.Rescaling(1./255)\n",
    "\n",
    "normalized_ds = train_ds.map(lambda x, y: (normalization_layer(x), y))\n",
    "image_batch, labels_batch = next(iter(normalized_ds))\n",
    "first_image = image_batch[0]\n",
    "# Notice the pixels values are now in `[0,1]`.\n",
    "print(np.min(first_image), np.max(first_image))"
   ]
  },
  {
   "cell_type": "code",
   "execution_count": 60,
   "metadata": {},
   "outputs": [
    {
     "data": {
      "text/plain": [
       "<PrefetchDataset shapes: ((None, 32, 32, 3), (None,)), types: (tf.uint8, tf.uint8)>"
      ]
     },
     "execution_count": 60,
     "metadata": {},
     "output_type": "execute_result"
    }
   ],
   "source": [
    "AUTOTUNE = tf.data.AUTOTUNE\n",
    "\n",
    "train_ds = train_ds.cache().prefetch(buffer_size=AUTOTUNE)\n",
    "val_ds = val_ds.cache().prefetch(buffer_size=AUTOTUNE)\n",
    "train_ds"
   ]
  },
  {
   "cell_type": "code",
   "execution_count": 61,
   "metadata": {},
   "outputs": [],
   "source": [
    "model = tf.keras.Sequential([\n",
    "    tf.keras.layers.experimental.preprocessing.Rescaling(1./255),\n",
    "    tf.keras.layers.Conv2D(32, 3, activation='relu'),\n",
    "    tf.keras.layers.MaxPooling2D(),\n",
    "    tf.keras.layers.Conv2D(32, 3, activation='relu'),\n",
    "    tf.keras.layers.MaxPooling2D(),\n",
    "    tf.keras.layers.Conv2D(32, 3, activation='relu'),\n",
    "    tf.keras.layers.MaxPooling2D(),\n",
    "    tf.keras.layers.Flatten(),\n",
    "    tf.keras.layers.Dense(128, activation='relu'),\n",
    "    tf.keras.layers.Dense(n_classes)\n",
    "])"
   ]
  },
  {
   "cell_type": "code",
   "execution_count": 62,
   "metadata": {},
   "outputs": [],
   "source": [
    "model.compile(\n",
    "  optimizer='adam',\n",
    "  loss=tf.losses.SparseCategoricalCrossentropy(from_logits=True),\n",
    "  metrics=['accuracy'])"
   ]
  },
  {
   "cell_type": "code",
   "execution_count": 63,
   "metadata": {},
   "outputs": [
    {
     "name": "stderr",
     "output_type": "stream",
     "text": [
      "2021/05/04 00:25:41 INFO mlflow.utils.autologging_utils: Created MLflow autologging run with ID '445ea2971e8449529b2b69b60ae6b837', which will track hyperparameters, performance metrics, model artifacts, and lineage information for the current tensorflow workflow\n",
      "2021/05/04 00:25:41 WARNING mlflow.utils.autologging_utils: Encountered unexpected error during autologging: This model has not yet been built. Build the model first by calling `build()` or calling `fit()` with some data, or specify an `input_shape` argument in the first layer(s) for automatic build.\n"
     ]
    },
    {
     "name": "stdout",
     "output_type": "stream",
     "text": [
      "Epoch 1/3\n",
      "272/272 [==============================] - 23s 81ms/step - loss: 3.8010 - accuracy: 0.0360 - val_loss: 3.7470 - val_accuracy: 0.0544\n",
      "Epoch 2/3\n",
      "272/272 [==============================] - 21s 75ms/step - loss: 3.7226 - accuracy: 0.0143 - val_loss: 3.7275 - val_accuracy: 0.0544\n",
      "Epoch 3/3\n",
      "272/272 [==============================] - 21s 75ms/step - loss: 3.7013 - accuracy: 0.1396 - val_loss: 3.6769 - val_accuracy: 0.0544\n",
      "INFO:tensorflow:Assets written to: /var/folders/80/7xxvsb954hx7r2n_98pnw59m0000gp/T/tmplmyedkl6/model/data/model/assets\n"
     ]
    },
    {
     "data": {
      "text/plain": [
       "<tensorflow.python.keras.callbacks.History at 0x7ff7344140a0>"
      ]
     },
     "execution_count": 63,
     "metadata": {},
     "output_type": "execute_result"
    }
   ],
   "source": [
    "model.fit(\n",
    "  train_ds,\n",
    "  validation_data=val_ds,\n",
    "  epochs=3\n",
    ")"
   ]
  },
  {
   "cell_type": "code",
   "execution_count": 35,
   "metadata": {},
   "outputs": [
    {
     "name": "stderr",
     "output_type": "stream",
     "text": [
      "2021/05/04 00:09:38 INFO mlflow.utils.autologging_utils: Created MLflow autologging run with ID '930d26a385f245f695a9c030da670634', which will track hyperparameters, performance metrics, model artifacts, and lineage information for the current tensorflow workflow\n"
     ]
    },
    {
     "name": "stdout",
     "output_type": "stream",
     "text": [
      "Epoch 1/10\n",
      "  3/272 [..............................] - ETA: 33s - loss: 3.2514 - accuracy: 0.1780     WARNING:tensorflow:Callback method `on_train_batch_end` is slow compared to the batch time (batch time: 0.0066s vs `on_train_batch_end` time: 0.0406s). Check your callbacks.\n",
      "272/272 [==============================] - 2s 7ms/step - loss: 4.5930 - accuracy: 0.1237: 0s - loss: 4\n",
      "Epoch 2/10\n",
      "272/272 [==============================] - 2s 6ms/step - loss: 3.7097 - accuracy: 0.0063\n",
      "Epoch 3/10\n",
      "272/272 [==============================] - 2s 6ms/step - loss: 3.6939 - accuracy: 0.0471\n",
      "Epoch 4/10\n",
      "272/272 [==============================] - 2s 6ms/step - loss: 3.6802 - accuracy: 0.0644\n",
      "Epoch 5/10\n",
      "272/272 [==============================] - 1s 5ms/step - loss: 3.6681 - accuracy: 0.0822\n",
      "Epoch 6/10\n",
      "272/272 [==============================] - 1s 5ms/step - loss: 3.6577 - accuracy: 0.1363\n",
      "Epoch 7/10\n",
      "272/272 [==============================] - 2s 6ms/step - loss: 3.6488 - accuracy: 0.1363\n",
      "Epoch 8/10\n",
      "272/272 [==============================] - 2s 8ms/step - loss: 3.6411 - accuracy: 0.1363\n",
      "Epoch 9/10\n",
      "272/272 [==============================] - 1s 5ms/step - loss: 3.6346 - accuracy: 0.1363\n",
      "Epoch 10/10\n",
      "272/272 [==============================] - 2s 6ms/step - loss: 3.6290 - accuracy: 0.1363\n",
      "INFO:tensorflow:Assets written to: /var/folders/80/7xxvsb954hx7r2n_98pnw59m0000gp/T/tmp5h1mj6bp/model/data/model/assets\n"
     ]
    },
    {
     "data": {
      "text/plain": [
       "<tensorflow.python.keras.callbacks.History at 0x7ff7415f89a0>"
      ]
     },
     "execution_count": 35,
     "metadata": {},
     "output_type": "execute_result"
    }
   ],
   "source": [
    "batch_size = 128\n",
    "AUTOTUNE = tf.data.AUTOTUNE\n",
    "\n",
    "# =============================================================================\n",
    "# preprocess\n",
    "# =============================================================================\n",
    "resize_and_rescale = tf.keras.Sequential([\n",
    "#   tf.keras.layers.experimental.preprocessing.Resizing(IMG_SIZE, IMG_SIZE),\n",
    "    tf.keras.layers.experimental.preprocessing.Rescaling(1./255)\n",
    "])\n",
    "\n",
    "data_augmentation = tf.keras.Sequential([\n",
    "    tf.keras.layers.experimental.preprocessing.RandomFlip(\"horizontal_and_vertical\"),\n",
    "    tf.keras.layers.experimental.preprocessing.RandomRotation(0.2),\n",
    "])\n",
    "\n",
    "def prepare(ds, shuffle=False, augment=False):\n",
    "    # Resize and rescale all datasets\n",
    "    ds = ds.map(lambda x, y: (resize_and_rescale(x), y), num_parallel_calls=AUTOTUNE)\n",
    "\n",
    "    # Batch all datasets\n",
    "    ds = ds.batch(batch_size)\n",
    "    \n",
    "    # Use buffered prefecting on all datasets\n",
    "    return ds\n",
    "\n",
    "# create tensorflow datasets\n",
    "train_ds = tf.data.Dataset.from_tensor_slices((X_train, y_train))\n",
    "\n",
    "train_ds = prepare(train_ds, shuffle=True, augment=False)\n",
    "# val_ds = prepare(val_ds)\n",
    "# test_ds = prepare(test_ds)\n",
    "\n",
    "# =============================================================================\n",
    "# architecture\n",
    "# =============================================================================\n",
    "### Define your architecture here.\n",
    "model = tf.keras.Sequential([\n",
    "    tf.keras.layers.Flatten(input_shape=(32, 32, 3)),\n",
    "    tf.keras.layers.Dense(128, activation='relu'),\n",
    "    tf.keras.layers.Dense(n_classes)\n",
    "])\n",
    "\n",
    "# compile the model\n",
    "model.compile(\n",
    "    optimizer = 'adam',\n",
    "    loss = tf.keras.losses.SparseCategoricalCrossentropy(from_logits=True),\n",
    "    metrics = ['accuracy']\n",
    ")\n",
    "\n",
    "# =============================================================================\n",
    "# training\n",
    "# =============================================================================\n",
    "model.fit(train_ds, epochs=10)"
   ]
  },
  {
   "cell_type": "code",
   "execution_count": 11,
   "metadata": {},
   "outputs": [],
   "source": [
    "# train_images = X_train / 255.0\n",
    "\n",
    "# # =============================================================================\n",
    "# # architecture\n",
    "# # =============================================================================\n",
    "# ### Define your architecture here.\n",
    "# model = tf.keras.Sequential([\n",
    "#     tf.keras.layers.Flatten(input_shape=(32, 32, 3)),\n",
    "#     tf.keras.layers.Dense(128, activation='relu'),\n",
    "#     tf.keras.layers.Dense(n_classes)\n",
    "# ])\n",
    "\n",
    "# # compile the model\n",
    "# model.compile(\n",
    "#     optimizer = 'adam',\n",
    "#     loss = tf.keras.losses.SparseCategoricalCrossentropy(from_logits=True),\n",
    "#     metrics = ['accuracy']\n",
    "# )\n",
    "\n",
    "# # =============================================================================\n",
    "# # training\n",
    "# # =============================================================================\n",
    "# model.fit(train_images, y_train, epochs=10)"
   ]
  },
  {
   "cell_type": "code",
   "execution_count": 12,
   "metadata": {},
   "outputs": [],
   "source": [
    "# ### Define your architecture here.\n",
    "# model = tf.keras.Sequential([\n",
    "#     tf.keras.layers.Flatten(input_shape=(32, 32, 3)),\n",
    "#     tf.keras.layers.Dense(128, activation='relu'),\n",
    "#     tf.keras.layers.Dense(len(class_names))\n",
    "# ])\n",
    "\n",
    "# # compile the model\n",
    "# model.compile(\n",
    "#     optimizer = 'adam',\n",
    "#     loss = tf.keras.losses.SparseCategoricalCrossentropy(from_logits=True),\n",
    "#     metrics = ['accuracy']\n",
    "# )\n",
    "\n",
    "# model.fit(train_ds, epochs=10)"
   ]
  },
  {
   "cell_type": "markdown",
   "metadata": {},
   "source": [
    "### Train, Validate and Test the Model"
   ]
  },
  {
   "cell_type": "markdown",
   "metadata": {},
   "source": [
    "A validation set can be used to assess how well the model is performing. A low accuracy on the training and validation\n",
    "sets imply underfitting. A high accuracy on the training set but low accuracy on the validation set implies overfitting."
   ]
  },
  {
   "cell_type": "code",
   "execution_count": 13,
   "metadata": {},
   "outputs": [],
   "source": [
    "### Train your model here.\n",
    "# model.fit(X_train, y_train, epochs=10)\n",
    "\n",
    "### Calculate and report the accuracy on the training and validation set.\n",
    "### Once a final model architecture is selected, \n",
    "### the accuracy on the test set should be calculated and reported as well.\n",
    "### Feel free to use as many code cells as needed."
   ]
  },
  {
   "cell_type": "markdown",
   "metadata": {},
   "source": [
    "---\n",
    "\n",
    "## Step 3: Test a Model on New Images\n",
    "\n",
    "To give yourself more insight into how your model is working, download at least five pictures of German traffic signs from the web and use your model to predict the traffic sign type.\n",
    "\n",
    "You may find `signnames.csv` useful as it contains mappings from the class id (integer) to the actual sign name."
   ]
  },
  {
   "cell_type": "markdown",
   "metadata": {},
   "source": [
    "### Load and Output the Images"
   ]
  },
  {
   "cell_type": "code",
   "execution_count": 14,
   "metadata": {},
   "outputs": [],
   "source": [
    "### Load the images and plot them here.\n",
    "### Feel free to use as many code cells as needed."
   ]
  },
  {
   "cell_type": "markdown",
   "metadata": {},
   "source": [
    "### Predict the Sign Type for Each Image"
   ]
  },
  {
   "cell_type": "code",
   "execution_count": 15,
   "metadata": {},
   "outputs": [],
   "source": [
    "### Run the predictions here and use the model to output the prediction for each image.\n",
    "### Make sure to pre-process the images with the same pre-processing pipeline used earlier.\n",
    "### Feel free to use as many code cells as needed."
   ]
  },
  {
   "cell_type": "markdown",
   "metadata": {},
   "source": [
    "### Analyze Performance"
   ]
  },
  {
   "cell_type": "code",
   "execution_count": 16,
   "metadata": {},
   "outputs": [],
   "source": [
    "### Calculate the accuracy for these 5 new images. \n",
    "### For example, if the model predicted 1 out of 5 signs correctly, it's 20% accurate on these new images."
   ]
  },
  {
   "cell_type": "markdown",
   "metadata": {},
   "source": [
    "### Output Top 5 Softmax Probabilities For Each Image Found on the Web"
   ]
  },
  {
   "cell_type": "markdown",
   "metadata": {},
   "source": [
    "For each of the new images, print out the model's softmax probabilities to show the **certainty** of the model's predictions (limit the output to the top 5 probabilities for each image). [`tf.nn.top_k`](https://www.tensorflow.org/versions/r0.12/api_docs/python/nn.html#top_k) could prove helpful here. \n",
    "\n",
    "The example below demonstrates how tf.nn.top_k can be used to find the top k predictions for each image.\n",
    "\n",
    "`tf.nn.top_k` will return the values and indices (class ids) of the top k predictions. So if k=3, for each sign, it'll return the 3 largest probabilities (out of a possible 43) and the correspoding class ids.\n",
    "\n",
    "Take this numpy array as an example. The values in the array represent predictions. The array contains softmax probabilities for five candidate images with six possible classes. `tf.nn.top_k` is used to choose the three classes with the highest probability:\n",
    "\n",
    "```\n",
    "# (5, 6) array\n",
    "a = np.array([[ 0.24879643,  0.07032244,  0.12641572,  0.34763842,  0.07893497,\n",
    "         0.12789202],\n",
    "       [ 0.28086119,  0.27569815,  0.08594638,  0.0178669 ,  0.18063401,\n",
    "         0.15899337],\n",
    "       [ 0.26076848,  0.23664738,  0.08020603,  0.07001922,  0.1134371 ,\n",
    "         0.23892179],\n",
    "       [ 0.11943333,  0.29198961,  0.02605103,  0.26234032,  0.1351348 ,\n",
    "         0.16505091],\n",
    "       [ 0.09561176,  0.34396535,  0.0643941 ,  0.16240774,  0.24206137,\n",
    "         0.09155967]])\n",
    "```\n",
    "\n",
    "Running it through `sess.run(tf.nn.top_k(tf.constant(a), k=3))` produces:\n",
    "\n",
    "```\n",
    "TopKV2(values=array([[ 0.34763842,  0.24879643,  0.12789202],\n",
    "       [ 0.28086119,  0.27569815,  0.18063401],\n",
    "       [ 0.26076848,  0.23892179,  0.23664738],\n",
    "       [ 0.29198961,  0.26234032,  0.16505091],\n",
    "       [ 0.34396535,  0.24206137,  0.16240774]]), indices=array([[3, 0, 5],\n",
    "       [0, 1, 4],\n",
    "       [0, 5, 1],\n",
    "       [1, 3, 5],\n",
    "       [1, 4, 3]], dtype=int32))\n",
    "```\n",
    "\n",
    "Looking just at the first row we get `[ 0.34763842,  0.24879643,  0.12789202]`, you can confirm these are the 3 largest probabilities in `a`. You'll also notice `[3, 0, 5]` are the corresponding indices."
   ]
  },
  {
   "cell_type": "code",
   "execution_count": 17,
   "metadata": {},
   "outputs": [],
   "source": [
    "### Print out the top five softmax probabilities for the predictions on the German traffic sign images found on the web. \n",
    "### Feel free to use as many code cells as needed."
   ]
  },
  {
   "cell_type": "markdown",
   "metadata": {},
   "source": [
    "### Project Writeup\n",
    "\n",
    "Once you have completed the code implementation, document your results in a project writeup using this [template](https://github.com/udacity/CarND-Traffic-Sign-Classifier-Project/blob/master/writeup_template.md) as a guide. The writeup can be in a markdown or pdf file. "
   ]
  },
  {
   "cell_type": "markdown",
   "metadata": {},
   "source": [
    "> **Note**: Once you have completed all of the code implementations and successfully answered each question above, you may finalize your work by exporting the iPython Notebook as an HTML document. You can do this by using the menu above and navigating to  \\n\",\n",
    "    \"**File -> Download as -> HTML (.html)**. Include the finished document along with this notebook as your submission."
   ]
  },
  {
   "cell_type": "markdown",
   "metadata": {},
   "source": [
    "---\n",
    "\n",
    "## Step 4 (Optional): Visualize the Neural Network's State with Test Images\n",
    "\n",
    " This Section is not required to complete but acts as an additional excersise for understaning the output of a neural network's weights. While neural networks can be a great learning device they are often referred to as a black box. We can understand what the weights of a neural network look like better by plotting their feature maps. After successfully training your neural network you can see what it's feature maps look like by plotting the output of the network's weight layers in response to a test stimuli image. From these plotted feature maps, it's possible to see what characteristics of an image the network finds interesting. For a sign, maybe the inner network feature maps react with high activation to the sign's boundary outline or to the contrast in the sign's painted symbol.\n",
    "\n",
    " Provided for you below is the function code that allows you to get the visualization output of any tensorflow weight layer you want. The inputs to the function should be a stimuli image, one used during training or a new one you provided, and then the tensorflow variable name that represents the layer's state during the training process, for instance if you wanted to see what the [LeNet lab's](https://classroom.udacity.com/nanodegrees/nd013/parts/fbf77062-5703-404e-b60c-95b78b2f3f9e/modules/6df7ae49-c61c-4bb2-a23e-6527e69209ec/lessons/601ae704-1035-4287-8b11-e2c2716217ad/concepts/d4aca031-508f-4e0b-b493-e7b706120f81) feature maps looked like for it's second convolutional layer you could enter conv2 as the tf_activation variable.\n",
    "\n",
    "For an example of what feature map outputs look like, check out NVIDIA's results in their paper [End-to-End Deep Learning for Self-Driving Cars](https://devblogs.nvidia.com/parallelforall/deep-learning-self-driving-cars/) in the section Visualization of internal CNN State. NVIDIA was able to show that their network's inner weights had high activations to road boundary lines by comparing feature maps from an image with a clear path to one without. Try experimenting with a similar test to show that your trained network's weights are looking for interesting features, whether it's looking at differences in feature maps from images with or without a sign, or even what feature maps look like in a trained network vs a completely untrained one on the same sign image.\n",
    "\n",
    "<figure>\n",
    " <img src=\"visualize_cnn.png\" width=\"380\" alt=\"Combined Image\" />\n",
    " <figcaption>\n",
    " <p></p> \n",
    " <p style=\"text-align: center;\"> Your output should look something like this (above)</p> \n",
    " </figcaption>\n",
    "</figure>\n",
    " <p></p> \n"
   ]
  },
  {
   "cell_type": "code",
   "execution_count": 18,
   "metadata": {},
   "outputs": [],
   "source": [
    "### Visualize your network's feature maps here.\n",
    "### Feel free to use as many code cells as needed.\n",
    "\n",
    "# image_input: the test image being fed into the network to produce the feature maps\n",
    "# tf_activation: should be a tf variable name used during your training procedure that represents the calculated state of a specific weight layer\n",
    "# activation_min/max: can be used to view the activation contrast in more detail, by default matplot sets min and max to the actual min and max values of the output\n",
    "# plt_num: used to plot out multiple different weight feature map sets on the same block, just extend the plt number for each new feature map entry\n",
    "\n",
    "def outputFeatureMap(image_input, tf_activation, activation_min=-1, activation_max=-1 ,plt_num=1):\n",
    "    # Here make sure to preprocess your image_input in a way your network expects\n",
    "    # with size, normalization, ect if needed\n",
    "    # image_input =\n",
    "    # Note: x should be the same name as your network's tensorflow data placeholder variable\n",
    "    # If you get an error tf_activation is not defined it may be having trouble accessing the variable from inside a function\n",
    "    activation = tf_activation.eval(session=sess,feed_dict={x : image_input})\n",
    "    featuremaps = activation.shape[3]\n",
    "    plt.figure(plt_num, figsize=(15,15))\n",
    "    for featuremap in range(featuremaps):\n",
    "        plt.subplot(6,8, featuremap+1) # sets the number of feature maps to show on each row and column\n",
    "        plt.title('FeatureMap ' + str(featuremap)) # displays the feature map number\n",
    "        if activation_min != -1 & activation_max != -1:\n",
    "            plt.imshow(activation[0,:,:, featuremap], interpolation=\"nearest\", vmin =activation_min, vmax=activation_max, cmap=\"gray\")\n",
    "        elif activation_max != -1:\n",
    "            plt.imshow(activation[0,:,:, featuremap], interpolation=\"nearest\", vmax=activation_max, cmap=\"gray\")\n",
    "        elif activation_min !=-1:\n",
    "            plt.imshow(activation[0,:,:, featuremap], interpolation=\"nearest\", vmin=activation_min, cmap=\"gray\")\n",
    "        else:\n",
    "            plt.imshow(activation[0,:,:, featuremap], interpolation=\"nearest\", cmap=\"gray\")"
   ]
  }
 ],
 "metadata": {
  "anaconda-cloud": {},
  "kernelspec": {
   "display_name": "Python 3",
   "language": "python",
   "name": "python3"
  },
  "language_info": {
   "codemirror_mode": {
    "name": "ipython",
    "version": 3
   },
   "file_extension": ".py",
   "mimetype": "text/x-python",
   "name": "python",
   "nbconvert_exporter": "python",
   "pygments_lexer": "ipython3",
   "version": "3.9.2"
  }
 },
 "nbformat": 4,
 "nbformat_minor": 4
}
